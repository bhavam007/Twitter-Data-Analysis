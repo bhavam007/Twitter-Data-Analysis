{
 "cells": [
  {
   "cell_type": "code",
   "execution_count": 35,
   "id": "intimate-prototype",
   "metadata": {},
   "outputs": [],
   "source": [
    "import tweepy as tw\n",
    "import pandas as pd\n",
    "import pickle\n",
    "import plotly.express as plotly\n",
    "import re\n",
    "import operator\n",
    "import statistics\n",
    "from datetime import datetime\n",
    "from datetime import timedelta\n",
    "from configu import credentials"
   ]
  },
  {
   "cell_type": "code",
   "execution_count": 36,
   "id": "synthetic-landscape",
   "metadata": {},
   "outputs": [],
   "source": [
    "api_key = credentials[\"api_key\"]\n",
    "sec_key = credentials[\"sec_key\"]\n",
    "access_token = credentials[\"access_token\"]\n",
    "access_token_secret = credentials[\"access_token_secret\"]"
   ]
  },
  {
   "cell_type": "code",
   "execution_count": 37,
   "id": "cleared-basketball",
   "metadata": {},
   "outputs": [],
   "source": [
    "auth = tw.AppAuthHandler(api_key, sec_key)\n",
    "auth.secure = True\n",
    "api = tw.API(auth, wait_on_rate_limit=True)"
   ]
  },
  {
   "cell_type": "code",
   "execution_count": 38,
   "id": "extensive-burden",
   "metadata": {},
   "outputs": [],
   "source": [
    "dp_tweets_list = []\n",
    "for status in tw.Cursor(api.user_timeline, screen_name=\"@DelhiPolice\", tweet_mode='extended').items(30000):\n",
    "    dp_tweets_list.append(status)\n",
    "print(len(dp_tweets_list))\n",
    "\n",
    "open_file = open(\"twitter_data.txt\", \"wb\")\n",
    "pickle.dump(dp_tweets_list, open_file)\n",
    "open_file.close()"
   ]
  },
  {
   "cell_type": "code",
   "execution_count": 39,
   "id": "round-irrigation",
   "metadata": {},
   "outputs": [],
   "source": [
    "dp_rep = []\n",
    "for tweet in dp_tweets_list:\n",
    "    if(tweet.in_reply_to_status_id_str != None):\n",
    "        dp_rep.append(tweet)\n",
    "\n",
    "org_tw = []\n",
    "dp_rep_rel = []\n",
    "\n",
    "for tweet in dp_rep:\n",
    "    try:\n",
    "        ot = api.get_status(tweet.in_reply_to_status_id, tweet_mode = 'extended')\n",
    "        if(\"DelhiPolice\" in ot.full_text):\n",
    "            org_tw.append(ot)\n",
    "            dp_rep_rel.append(tweet)\n",
    "    except:\n",
    "        continue\n",
    "        \n",
    "print(len(org_tw))\n",
    "print(len(dp_rep_rel))"
   ]
  },
  {
   "cell_type": "code",
   "execution_count": 40,
   "id": "available-judgment",
   "metadata": {},
   "outputs": [],
   "source": [
    "open_file = open(\"org_tweets.txt\", \"wb\")\n",
    "pickle.dump(org_tw, open_file)\n",
    "open_file.close()\n",
    "\n",
    "open_file = open(\"dp_relevant_rep.txt\", \"wb\")\n",
    "pickle.dump(dp_rep_rel, open_file)\n",
    "open_file.close()\n",
    "\n",
    "open_file = open(\"twitter_data.txt\", \"rb\")\n",
    "dp_list = pickle.load(open_file)\n",
    "open_file.close()\n",
    "\n",
    "open_file = open(\"org_tweets.txt\", \"rb\")\n",
    "org_t = pickle.load(open_file)\n",
    "open_file.close()\n",
    "\n",
    "open_file = open(\"dp_relevant_rep.txt\", \"rb\")\n",
    "dp_rep = pickle.load(open_file)\n",
    "open_file.close()"
   ]
  },
  {
   "cell_type": "code",
   "execution_count": null,
   "id": "amber-tobago",
   "metadata": {},
   "outputs": [],
   "source": [
    "mail_reg = \"(\\w|\\.|\\_|\\-)+[@](\\w|\\_|\\-|\\.)+[.]\\w{2,3}\"\n",
    "reg1 = re.compile(mail_reg)\n",
    "\n",
    "no_reg = \"\\+?\\d[\\d -]{8,12}\\d\"\n",
    "reg2 = re.compile(no_reg)\n",
    "\n",
    "aadh_reg = \"[2-9]{1}[0-9]{3}\\\\s[0-9]{4}\\\\s[0-9]{4}\"\n",
    "reg3 = re.compile(aadh_reg)\n",
    "\n",
    "pan_reg = \"[A-Z]{5}[0-9]{4}[A-Z]{1}\"\n",
    "reg4 = re.compile(pan_reg)\n",
    "\n",
    "master_reg = \"5[1-5][0-9]{14}|^(222[1-9]|22[3-9]\\\\d|2[3-6]\\\\d{2}|27[0-1]\\\\d|2720)[0-9]{12}\"\n",
    "reg5 = re.compile(master_reg)\n",
    "\n",
    "car_reg = \"[A-Z]{2}[ -][0-9]{1,2}(?: [A-Z])?(?: [A-Z]*)? [0-9]{4}\"\n",
    "reg6 = re.compile(car_reg)\n",
    "\n",
    "regex = [reg1, reg2, reg3, reg4, reg5, reg6]\n",
    "\n",
    "no_mail = 0\n",
    "no_phn = 0\n",
    "no_car = 0\n",
    "for tweet in org_t:\n",
    "    for reg in regex:\n",
    "        if(re.search(reg, tweet.full_text) and \"media\" not in tweet.entities.keys()):\n",
    "            if(reg == reg1):\n",
    "                no_mail += 1\n",
    "            elif(reg == reg2):\n",
    "                no_phn += 1\n",
    "            elif(reg == reg6):\n",
    "                no_car += 1\n",
    "                \n",
    "print(\"Email:\",no_mail)\n",
    "print(\"Phone Numbers:\",no_phn)\n",
    "print(\"Vehicle Numbers:\",no_car)"
   ]
  },
  {
   "cell_type": "code",
   "execution_count": null,
   "id": "permanent-volunteer",
   "metadata": {},
   "outputs": [],
   "source": [
    "media = 0\n",
    "pii_med = 0\n",
    "mail_med = 0\n",
    "phn_med = 0\n",
    "car_med = 0\n",
    "for tweet in org_t:\n",
    "    if(\"media\" in tweet.entities.keys()):\n",
    "        media += 1\n",
    "        for reg in regex:\n",
    "            if(re.search(reg, tweet.full_text)):\n",
    "                if(reg == reg1):\n",
    "                    mail_med += 1\n",
    "                elif(reg == reg2):\n",
    "                    phn_med += 1\n",
    "                elif(reg == reg6):\n",
    "                    car_med += 1\n",
    "                pii_med += 1\n",
    "    \n",
    "print(\"Tweets containing media =\",media)\n",
    "print(\"Tweets containg PII & media =\",pii_med)\n",
    "print(\"Email:\",mail_med)\n",
    "print(\"Phone Numbers:\",phn_med)\n",
    "print(\"Vehicle Numbers:\",car_med)"
   ]
  },
  {
   "cell_type": "code",
   "execution_count": 43,
   "id": "chemical-sierra",
   "metadata": {},
   "outputs": [],
   "source": [
    "tw_dict = {}\n",
    "org_tweet = []\n",
    "dp_reply = []\n",
    "for tweet in org_t:\n",
    "    for rep in dp_rep:\n",
    "        if(rep.in_reply_to_status_id == tweet.id and tweet.user.screen_name != \"DelhiPolice\"):\n",
    "            tw_dict[tweet.id] = rep.in_reply_to_status_id\n",
    "            org_tweet.append(tweet)\n",
    "            dp_reply.append(rep)"
   ]
  },
  {
   "cell_type": "code",
   "execution_count": 44,
   "id": "pursuant-belle",
   "metadata": {},
   "outputs": [],
   "source": [
    "resp_time = []\n",
    "rt_dict = {}\n",
    "for i in range(len(dp_reply)):\n",
    "    rt = dp_reply[i].created_at - org_tweet[i].created_at\n",
    "    rt_sec = rt.total_seconds()\n",
    "    resp_time.append(rt_sec)\n",
    "    rt_dict[org_tweet[i].created_at] = rt_sec/(60*60)"
   ]
  },
  {
   "cell_type": "code",
   "execution_count": null,
   "id": "prompt-marathon",
   "metadata": {},
   "outputs": [],
   "source": [
    "min_time = timedelta(seconds = min(resp_time))\n",
    "max_time = timedelta(seconds = max(resp_time))\n",
    "avg_time = timedelta(seconds = statistics.mean(resp_time))\n",
    "std_dev = timedelta(seconds = statistics.pstdev(resp_time))\n",
    "print(\"Minimum response time by @DelhiPolice:\",min_time)\n",
    "print(\"Maximum response time by @DelhiPolice:\",max_time)\n",
    "print(\"Average response time by @DelhiPolice:\",avg_time)\n",
    "print(\"Standard deviation of response time by @DelhiPolice:\",std_dev)"
   ]
  },
  {
   "cell_type": "code",
   "execution_count": null,
   "id": "excellent-collection",
   "metadata": {},
   "outputs": [],
   "source": [
    "#Timeseries Plot\n",
    "\n",
    "rt_dict = dict(sorted(rt_dict.items(), key=operator.itemgetter(0)))\n",
    "resp_data = pd.DataFrame(list(zip(rt_dict.keys(), rt_dict.values())), columns =['date', 'resp_time'])\n",
    "\n",
    "figure = plotly.line(x=resp_data.date, y=resp_data.resp_time, labels={'x':'Date', 'y':'Response Time (hours)'})\n",
    "figure.show()"
   ]
  }
 ],
 "metadata": {
  "kernelspec": {
   "display_name": "Python 3",
   "language": "python",
   "name": "python3"
  },
  "language_info": {
   "codemirror_mode": {
    "name": "ipython",
    "version": 3
   },
   "file_extension": ".py",
   "mimetype": "text/x-python",
   "name": "python",
   "nbconvert_exporter": "python",
   "pygments_lexer": "ipython3",
   "version": "3.8.5"
  }
 },
 "nbformat": 4,
 "nbformat_minor": 5
}
